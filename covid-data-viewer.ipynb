{
 "cells": [
  {
   "cell_type": "markdown",
   "metadata": {},
   "source": [
    "# Our World in Data COVID-19 data viewer"
   ]
  },
  {
   "cell_type": "markdown",
   "metadata": {},
   "source": [
    "Antes de começar, é preciso baixar os dados no formato CSV do Our World In Data:"
   ]
  },
  {
   "cell_type": "code",
   "execution_count": null,
   "metadata": {},
   "outputs": [],
   "source": [
    "from data import get_data\n",
    "\n",
    "csv_data = get_data()"
   ]
  },
  {
   "cell_type": "markdown",
   "metadata": {},
   "source": [
    "Será utilizada a biblioteca pandas para o tratamento dos dados:"
   ]
  },
  {
   "cell_type": "code",
   "execution_count": null,
   "metadata": {},
   "outputs": [],
   "source": [
    "import pandas as pd\n",
    "\n",
    "df = pd.read_csv(csv_data)  # abre os dados em um pandas DataFrame"
   ]
  },
  {
   "cell_type": "markdown",
   "metadata": {},
   "source": [
    "Escolhe dois dias para calcular a porcentagem da diferença entre os números de casos e depois gerar os gráficos:"
   ]
  },
  {
   "cell_type": "code",
   "execution_count": null,
   "metadata": {},
   "outputs": [],
   "source": [
    "first_day = input(\"Entre a data do primeiro dia no formato YYYY-MM-DD: \")"
   ]
  },
  {
   "cell_type": "code",
   "execution_count": null,
   "metadata": {},
   "outputs": [],
   "source": [
    "second_day = input(\"Entre a data do segundo dia no formato YYYY-MM-DD: \")"
   ]
  },
  {
   "cell_type": "markdown",
   "metadata": {},
   "source": [
    "Filtra os dados para cada dia no DataFrame:"
   ]
  },
  {
   "cell_type": "code",
   "execution_count": null,
   "metadata": {},
   "outputs": [],
   "source": [
    "first_day_data = df.loc[df[\"date\"] == first_day]\n",
    "second_day_data = df.loc[df[\"date\"] == second_day]"
   ]
  },
  {
   "cell_type": "markdown",
   "metadata": {},
   "source": [
    "Informa o número de casos no mundo todo para cada dia, assim como a porcentagem da diferença entre um dia e outro:"
   ]
  },
  {
   "cell_type": "code",
   "execution_count": null,
   "metadata": {
    "tags": []
   },
   "outputs": [],
   "source": [
    "first_day_cases = first_day_data.loc[first_day_data[\"location\"] == \"World\"][\"total_cases\"].values[0]\n",
    "second_day_cases = second_day_data.loc[second_day_data[\"location\"] == \"World\"][\"total_cases\"].values[0]\n",
    "\n",
    "print(f\"Número de casos em {first_day}: {int(first_day_cases)}\")\n",
    "print(f\"Número de casos em {second_day}: {int(second_day_cases)}\")\n",
    "\n",
    "percentage_difference = round((second_day_cases - first_day_cases) / min([first_day_cases, second_day_cases]) * 100, 2)\n",
    "print(f\"{first_day} --> {second_day}: {'+' if percentage_difference > 0 else ''}{percentage_difference}%\")"
   ]
  },
  {
   "cell_type": "markdown",
   "metadata": {},
   "source": [
    "Ordena os dias para facilitar na computação:"
   ]
  },
  {
   "cell_type": "code",
   "execution_count": null,
   "metadata": {},
   "outputs": [],
   "source": [
    "[first_day, second_day] = sorted([first_day, second_day])"
   ]
  },
  {
   "cell_type": "markdown",
   "metadata": {},
   "source": [
    "Filtra os dados novamente:"
   ]
  },
  {
   "cell_type": "code",
   "execution_count": null,
   "metadata": {},
   "outputs": [],
   "source": [
    "first_day_data = df.loc[df[\"date\"] == first_day]\n",
    "second_day_data = df.loc[df[\"date\"] == second_day]"
   ]
  },
  {
   "cell_type": "markdown",
   "metadata": {},
   "source": [
    "Passa os pandas DataFrames para Numpy ndarrays:"
   ]
  },
  {
   "cell_type": "code",
   "execution_count": null,
   "metadata": {},
   "outputs": [],
   "source": [
    "np_second_day_cases = second_day_data[\"total_cases\"].to_numpy()\n",
    "np_first_day_cases = first_day_data[\"total_cases\"].to_numpy()"
   ]
  },
  {
   "cell_type": "markdown",
   "metadata": {},
   "source": [
    "Redimensiona o array para cobrir os casos em que há mais paises reportados no segundo dia do que no primeiro:"
   ]
  },
  {
   "cell_type": "code",
   "execution_count": null,
   "metadata": {},
   "outputs": [],
   "source": [
    "from operator import sub\n",
    "import numpy as np\n",
    "\n",
    "nan_fill_shape = tuple(\n",
    "    map(sub, np_second_day_cases.shape, np_first_day_cases.shape)\n",
    ")\n",
    "np_first_day_cases = np.hstack(\n",
    "    [\n",
    "        np_first_day_cases[:-1],\n",
    "        np.full(nan_fill_shape, np.nan),\n",
    "        np_first_day_cases[-1],\n",
    "    ]\n",
    ")"
   ]
  },
  {
   "cell_type": "markdown",
   "metadata": {},
   "source": [
    "Calcula as porcentagens das diferenças:"
   ]
  },
  {
   "cell_type": "code",
   "execution_count": null,
   "metadata": {},
   "outputs": [],
   "source": [
    "differences = (np_second_day_cases - np_first_day_cases) / np_first_day_cases * 100"
   ]
  },
  {
   "cell_type": "markdown",
   "metadata": {
    "tags": []
   },
   "source": [
    "Grava em um novo arquivo as informações selecionadas anteriormente (país e porcentagem):"
   ]
  },
  {
   "cell_type": "code",
   "execution_count": null,
   "metadata": {},
   "outputs": [],
   "source": [
    "with open(f\"pct-diff-{first_day}-{second_day}.csv\", \"w\") as fin:\n",
    "    fin.write(\"pais,pct_diff\\n\")\n",
    "    for pais, pct_diff in zip(second_day_data[\"location\"], differences):\n",
    "        fin.write(f\"{pais},{pct_diff}\\n\")"
   ]
  }
 ],
 "metadata": {
  "language_info": {
   "codemirror_mode": {
    "name": "ipython",
    "version": 3
   },
   "file_extension": ".py",
   "mimetype": "text/x-python",
   "name": "python",
   "nbconvert_exporter": "python",
   "pygments_lexer": "ipython3",
   "version": "3.8.2-final"
  },
  "orig_nbformat": 2,
  "kernelspec": {
   "name": "python_defaultSpec_1594856660268",
   "display_name": "Python 3.8.2 64-bit ('.venv': venv)"
  }
 },
 "nbformat": 4,
 "nbformat_minor": 2
}