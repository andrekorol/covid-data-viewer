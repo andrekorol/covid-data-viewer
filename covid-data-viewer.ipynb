{
 "cells": [
  {
   "cell_type": "markdown",
   "metadata": {},
   "source": [
    "# Our World in Data COVID-19 data viewer"
   ]
  },
  {
   "cell_type": "markdown",
   "metadata": {},
   "source": [
    "Antes de começar, é preciso baixar os dados no formato CSV do Our World In Data:"
   ]
  },
  {
   "cell_type": "code",
   "execution_count": 1,
   "metadata": {},
   "outputs": [],
   "source": [
    "from data import get_data\n",
    "\n",
    "csv_data = get_data()"
   ]
  },
  {
   "cell_type": "markdown",
   "metadata": {},
   "source": [
    "Será utilizada a biblioteca pandas para o tratamento dos dados:"
   ]
  },
  {
   "cell_type": "code",
   "execution_count": 2,
   "metadata": {},
   "outputs": [],
   "source": [
    "import pandas as pd\n",
    "\n",
    "df = pd.read_csv(csv_data)  # abre os dados em um pandas DataFrame"
   ]
  },
  {
   "cell_type": "markdown",
   "metadata": {},
   "source": [
    "Escolhe dois dias para calcular a porcentagem da diferença entre os números de casos e depois gerar os gráficos:"
   ]
  },
  {
   "cell_type": "code",
   "execution_count": 3,
   "metadata": {},
   "outputs": [],
   "source": [
    "first_day = input(\"Entre a data do primeiro dia no formato YYYY-MM-DD:\")"
   ]
  },
  {
   "cell_type": "code",
   "execution_count": 4,
   "metadata": {},
   "outputs": [],
   "source": [
    "second_day = input(\"Entre a data do segundo dia no formato YYYY-MM-DD:\")"
   ]
  },
  {
   "cell_type": "markdown",
   "metadata": {},
   "source": [
    "Filtra os dados para cada dia no DataFrame:"
   ]
  },
  {
   "cell_type": "code",
   "execution_count": 7,
   "metadata": {},
   "outputs": [],
   "source": [
    "first_day_data = df.loc[df[\"date\"] == first_day]\n",
    "second_day_data = df.loc[df[\"date\"] == second_day]"
   ]
  },
  {
   "cell_type": "markdown",
   "metadata": {},
   "source": [
    "Informa o número de casos no mundo todo para cada dia, assim como a porcentagem da diferença entre um dia e outro:"
   ]
  },
  {
   "cell_type": "code",
   "execution_count": 33,
   "metadata": {
    "tags": []
   },
   "outputs": [
    {
     "output_type": "stream",
     "name": "stdout",
     "text": "Número de casos em 2020-04-16: 2043033\nNúmero de casos em 2020-04-17: 2126427\n2020-04-16 --> 2020-04-17: +4.08%\n"
    }
   ],
   "source": [
    "first_day_cases = first_day_data.loc[first_day_data[\"location\"] == \"World\"][\"total_cases\"].values[0]\n",
    "second_day_cases = second_day_data.loc[second_day_data[\"location\"] == \"World\"][\"total_cases\"].values[0]\n",
    "\n",
    "print(f\"Número de casos em {first_day}: {int(first_day_cases)}\")\n",
    "print(f\"Número de casos em {second_day}: {int(second_day_cases)}\")\n",
    "\n",
    "percentage_difference = round((second_day_cases - first_day_cases) / first_day_cases * 100, 2)\n",
    "print(f\"{first_day} --> {second_day}: {'+' if percentage_difference > 0 else ''}{percentage_difference}%\")"
   ]
  },
  {
   "cell_type": "code",
   "execution_count": null,
   "metadata": {},
   "outputs": [],
   "source": []
  }
 ],
 "metadata": {
  "language_info": {
   "codemirror_mode": {
    "name": "ipython",
    "version": 3
   },
   "file_extension": ".py",
   "mimetype": "text/x-python",
   "name": "python",
   "nbconvert_exporter": "python",
   "pygments_lexer": "ipython3",
   "version": "3.8.2-final"
  },
  "orig_nbformat": 2,
  "kernelspec": {
   "name": "python_defaultSpec_1594840374074",
   "display_name": "Python 3.8.2 64-bit ('.venv': venv)"
  }
 },
 "nbformat": 4,
 "nbformat_minor": 2
}