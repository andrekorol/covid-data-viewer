{
 "cells": [
  {
   "cell_type": "markdown",
   "metadata": {},
   "source": [
    "# Our World in Data COVID-19 data viewer"
   ]
  },
  {
   "cell_type": "code",
   "execution_count": null,
   "metadata": {
    "tags": []
   },
   "outputs": [],
   "source": [
    "import pandas as pd\n",
    "\n",
    "from data import get_data\n",
    "\n",
    "# Antes de começar, é preciso baixar os dados no formato CSV do Our World In Data\n",
    "csv_data = get_data()\n",
    "df = pd.read_csv(csv_data)  # abre os dados em um pandas DataFrame\n",
    "\n",
    "# O processo será repetido até o usuário solicitar para sair do programa\n",
    "answer = \"y\"\n",
    "while answer.lower() != \"n\":\n",
    "    # Escolhe dois dias para calcular a porcentagem da diferença entre\n",
    "    # os números de casos e depois gerar os gráficos\n",
    "    first_day = input(\"Entre a data do primeiro dia no formato YYYY-MM-DD: \")\n",
    "    second_day = input(\"Entre a data do segundo dia no formato YYYY-MM-DD: \")\n",
    "\n",
    "    # Filtra os dados para cada dia no DataFrame\n",
    "    first_day_df = df.loc[df[\"date\"] == first_day]\n",
    "    second_day_df = df.loc[df[\"date\"] == second_day]\n",
    "\n",
    "    # Encontra o dia com o menor numero de lugares com dados reportados\n",
    "    least_locations_df = sorted(\n",
    "        [first_day_df, second_day_df], key=lambda day_df: day_df[\"location\"].shape\n",
    "    )[0]\n",
    "\n",
    "    # Grava em um novo arquivo as informações selecionadas (país e porcentagem)\n",
    "    with open(f\"pct-diff-{first_day}-{second_day}.csv\", \"w\") as fin:\n",
    "        fin.write(\"pais,pct_diff\\n\")\n",
    "        # Calcula as porcentagens das diferenças para cada lugar\n",
    "        for location in least_locations_df[\"location\"]:\n",
    "            first_day_cases = first_day_df.loc[first_day_df[\"location\"] == location][\n",
    "                \"total_cases\"\n",
    "            ].values[0]\n",
    "            second_day_cases = second_day_df.loc[second_day_df[\"location\"] == location][\n",
    "                \"total_cases\"\n",
    "            ].values[0]\n",
    "            pct_diff = round(\n",
    "                (second_day_cases - first_day_cases)\n",
    "                / min([first_day_cases, second_day_cases])\n",
    "                * 100,\n",
    "                2,\n",
    "            )\n",
    "            fin.write(f\"{location},{pct_diff}\\n\")\n",
    "            # Informa o número de casos no mundo todo para cada dia, assim\n",
    "            # como a porcentagem da diferença entre um dia e outro\n",
    "            if location == \"World\":\n",
    "                print(f\"Número de casos em {first_day}: {int(first_day_cases)}\")\n",
    "                print(f\"Número de casos em {second_day}: {int(second_day_cases)}\")\n",
    "                print(\n",
    "                    f\"{first_day} --> {second_day}: {'+' if pct_diff > 0 else ''}{pct_diff}%\"\n",
    "                )\n",
    "\n",
    "    answer = input(\"Deseja continuar? [Y/n] \")\n"
   ]
  }
 ],
 "metadata": {
  "language_info": {
   "codemirror_mode": {
    "name": "ipython",
    "version": 3
   },
   "file_extension": ".py",
   "mimetype": "text/x-python",
   "name": "python",
   "nbconvert_exporter": "python",
   "pygments_lexer": "ipython3",
   "version": "3.8.2-final"
  },
  "orig_nbformat": 2,
  "kernelspec": {
   "name": "python_defaultSpec_1594856660268",
   "display_name": "Python 3.8.2 64-bit ('.venv': venv)"
  }
 },
 "nbformat": 4,
 "nbformat_minor": 2
}